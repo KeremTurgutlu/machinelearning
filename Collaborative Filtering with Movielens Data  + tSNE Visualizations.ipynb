{
 "cells": [
  {
   "cell_type": "markdown",
   "metadata": {},
   "source": [
    "## Implement Collaborative Filtering from Scratch\n",
    "\n",
    "This notebook explores fast collaborative filtering algorithm by employing a vectorized implementation, no for loops allowed :). References and inspirations from USF ML course by Yannet Interian and <a href=http://www.fast.ai/>Fast.ai</a> by Jeremy Howard."
   ]
  },
  {
   "cell_type": "markdown",
   "metadata": {
    "heading_collapsed": true
   },
   "source": [
    "### Open Form Formulas for Updates"
   ]
  },
  {
   "cell_type": "markdown",
   "metadata": {
    "hidden": true
   },
   "source": [
    "**Basic Notation**\n",
    "\n",
    "* $U$: matrix of u x n (u: # of users, n: dim of embedding)\n",
    "* $V$: matrix of v x n (v: # of items, n: dim of embedding)\n",
    "* $u^{0}$: vector of u x 1 bias of users\n",
    "* $v^{0}$: vector of v x 1 bias of movies\n",
    "* $n_{u}$: number of users\n",
    "* $n_{i}$: number of items(movie)\n",
    "\n",
    "\n",
    "Total # of parameters to be learned $n_{u}\\ x\\ (D + 1)\\ + n_{i}\\ x\\ (D + 1)\\ =\\ (n_{u}\\ +\\ n_{v}) x\\ (D + 1)$\n",
    "\n",
    "**Derivatives with biases**\n",
    "\n",
    "i) $\\frac{\\partial E}{\\partial u_{ik}} = \n",
    "\\frac{2}{N}\\sum_{(i,j);r_{ij}=1}{\n",
    "(u_{0i} + v_{0j} + u_{i}v_{j} - y_{ij})}v_{jk} $\n",
    "\n",
    "ii) $\\frac{\\partial E}{\\partial v_{jk}} = \n",
    "\\frac{2}{N}\\sum_{(i,j);r_{ij}=1}{\n",
    "(u_{0i} + v_{0j} + u_{i}v_{j} - y_{ij})}u_{ik} $\n",
    "\n",
    "iii)$\\frac{\\partial E}{\\partial u_{0k}} = \n",
    "\\frac{2}{N}\\sum_{(j);r_{ij}=1}\\sum_{(i,j);r_{ij}=1}{\n",
    "(u_{0i} + v_{0j} + u_{i}v_{j} - y_{ij})}$\n",
    "\n",
    "iv)$\\frac{\\partial E}{\\partial v_{0k}} = \n",
    "\\frac{2}{N}\\sum_{(i);r_{ij}=1}\\sum_{(i,j);r_{ij}=1}{\n",
    "(u_{0i} + v_{0j} + u_{i}v_{j} - y_{ij})}$\n",
    "\n",
    "**Gradient Descent Updates**\n",
    "\n",
    "i) $u_{ik} = u_{ik} - \\eta{\\frac{\\partial E}{\\partial u_{ik}}}$\n",
    "\n",
    "ii) $v_{jk} = v_{jk} - \\eta{\\frac{\\partial E}{\\partial v_{jk}}}$\n",
    "\n",
    "iii) $u_{0k} = u_{0k} - \\eta{\\frac{\\partial E}{\\partial u_{0k}}}$\n",
    "\n",
    "iv) $v_{0k} = v_{0k} - \\eta{\\frac{\\partial E}{\\partial v_{0k}}}$"
   ]
  },
  {
   "cell_type": "markdown",
   "metadata": {
    "heading_collapsed": true
   },
   "source": [
    "### Vectorized Form Formulas for Updates"
   ]
  },
  {
   "cell_type": "markdown",
   "metadata": {
    "hidden": true
   },
   "source": [
    "**Vectorized Derivatives with Biases**\n",
    "\n",
    "Let's define our notations:\n",
    "\n",
    "$n_{u}$: number of users\n",
    "\n",
    "$n_{i}$: number of items(movie)\n",
    "\n",
    "$U = n_{u}\\ x\\ n_{D}$ user matrix\n",
    "\n",
    "$V = n_{i}\\ x\\ n_{D}$ item(movie) matrix\n",
    "\n",
    "$Y = n_{u}\\ x\\ n_{i}$ ground truth of ratings sparse\n",
    "\n",
    "$R = n_{u}\\ x\\ n_{i}$ binary matrix indicating ratings sparse\n",
    "\n",
    "$M = n_{u}\\ x\\ 1$ column vector of ones\n",
    "\n",
    "$N = n_{i}\\ x\\ 1$ column vector of ones\n",
    "\n",
    "$B_{u} = n_{u}\\ x\\ n_{i}$ matrix from broadcasted column vector of user biases $b_{u}$\n",
    "\n",
    "$B_{i} = n_{i}\\ x\\ n_{u}$ matrix from broadcasted column vector of item biases $b_{i}$\n",
    "\n",
    "\n",
    "i) $\\frac{\\partial E}{\\partial U}: -\\frac{2}{N}\n",
    "    ((Y - UV^{T} - B_{u} - B_{i}^{T})*R)V$\n",
    "    \n",
    "ii)$\\frac{\\partial E}{\\partial V}: -\\frac{2}{N}\n",
    "    ((Y - UV^{T} - B_{u} - B_{i}^{T})*R)^{T}U$\n",
    "    \n",
    "iii)$\\frac{\\partial E}{\\partial b_{u}}: -\\frac{2}{N}\n",
    "    ((Y - UV^{T} - B_{u} - B_{i}^{T})*R)N$   \n",
    "\n",
    "iii)$\\frac{\\partial E}{\\partial b_{i}}: -\\frac{2}{N}\n",
    "    ((Y - UV^{T} - B_{u} - B_{i}^{T})*R)^{T}M$   \n",
    "    \n",
    "    \n",
    "**Adding Regularization**\n",
    "\n",
    "Let's define our new loss:\n",
    "\n",
    "\n",
    "$\\sum:$ sums all elements of matrix\n",
    "\n",
    "$*:$ element wise multiplication\n",
    "\n",
    "Loss = $\\sum(Y - UV^{T} - B_{u} - B_{i}^{T})*R)^{2}/N + \\lambda\\sum U*U + \\lambda\\sum V*V $\n",
    "\n",
    "i) $\\frac{\\partial E}{\\partial U}: -\\frac{2}{N}\n",
    "    ((Y - UV^{T} - B_{u} - B_{i}^{T})*R)V  + 2\\lambda U$\n",
    "    \n",
    "ii)$\\frac{\\partial E}{\\partial V}: -\\frac{2}{N}\n",
    "    ((Y - UV^{T} - B_{u} - B_{i}^{T})*R)^{T}U + 2\\lambda V$\n",
    "    \n",
    "iii)$\\frac{\\partial E}{\\partial b_{u}}: -\\frac{2}{N}\n",
    "    ((Y - UV^{T} - B_{u} - B_{i}^{T})*R)N $   \n",
    "\n",
    "iii)$\\frac{\\partial E}{\\partial b_{i}}: -\\frac{2}{N}\n",
    "    ((Y - UV^{T} - B_{u} - B_{i}^{T})*R)^{T}M$   \n",
    "    "
   ]
  },
  {
   "cell_type": "markdown",
   "metadata": {
    "heading_collapsed": true
   },
   "source": [
    "### Imports"
   ]
  },
  {
   "cell_type": "code",
   "execution_count": 14,
   "metadata": {
    "hidden": true
   },
   "outputs": [],
   "source": [
    "import numpy as np\n",
    "import pandas as pd\n",
    "from scipy import sparse"
   ]
  },
  {
   "cell_type": "markdown",
   "metadata": {
    "heading_collapsed": true
   },
   "source": [
    "### Functions"
   ]
  },
  {
   "cell_type": "code",
   "execution_count": 15,
   "metadata": {
    "hidden": true
   },
   "outputs": [],
   "source": [
    "# here is a handy function from fast.ai\n",
    "def proc_col(col):\n",
    "    \"\"\"Encodes a pandas column with continous ids. \n",
    "    \"\"\"\n",
    "    uniq = col.unique()\n",
    "    name2idx = {o:i for i,o in enumerate(uniq)}\n",
    "    return name2idx, np.array([name2idx[x] for x in col]), len(uniq)"
   ]
  },
  {
   "cell_type": "code",
   "execution_count": 16,
   "metadata": {
    "hidden": true
   },
   "outputs": [],
   "source": [
    "# we will create indices to be matched by our embeddings later\n",
    "def encode_data(df):\n",
    "    new_df = df.copy()\n",
    "    _, user_col, num_users = proc_col(df[\"userId\"])\n",
    "    _, movies_col, num_movies = proc_col(df[\"movieId\"])\n",
    "    new_df[\"userId\"], new_df[\"movieId\"] = user_col, movies_col\n",
    "    return new_df, num_users, num_movies"
   ]
  },
  {
   "cell_type": "code",
   "execution_count": 20,
   "metadata": {
    "hidden": true
   },
   "outputs": [],
   "source": [
    "# Encode a given target dataframe with same mapping as the source dataframe\n",
    "# source: df_train, target: df_val\n",
    "def encode_new_data(df_val, df_train):\n",
    "    # YOUR CODE HERE\n",
    "    val = df_val.copy()\n",
    "    user2idx, _, _ = proc_col(df_train[\"userId\"])\n",
    "    movie2idx, _, _ = proc_col(df_train[\"movieId\"])\n",
    "    \n",
    "    val[\"userId\"] = np.array([user2idx[x] if x in user2idx else np.nan for x in val.userId])\n",
    "    val[\"movieId\"] = np.array([movie2idx[x] if x in movie2idx else np.nan for x in val.movieId])\n",
    "        \n",
    "    # drop missing\n",
    "    val.dropna(inplace=True)\n",
    "    val[\"userId\"] = val[\"userId\"].astype('int')\n",
    "    val[\"movieId\"] = val[\"movieId\"].astype('int')\n",
    "    return val"
   ]
  },
  {
   "cell_type": "code",
   "execution_count": 17,
   "metadata": {
    "hidden": true
   },
   "outputs": [],
   "source": [
    "# create sparse matrix for fast calculations\n",
    "def df2matrix(df, nrows, ncols, column_name=\"rating\"):\n",
    "    values = df[column_name].values\n",
    "    ind_movie = df['movieId'].values\n",
    "    ind_user = df['userId'].values\n",
    "    return sparse.csc_matrix((values,(ind_user, ind_movie)),shape=(nrows, ncols))"
   ]
  },
  {
   "cell_type": "code",
   "execution_count": 18,
   "metadata": {
    "hidden": true
   },
   "outputs": [],
   "source": [
    "# This function will create embeddings\n",
    "# with given dimension K having n unique indices\n",
    "def create_embedings(n, K):\n",
    "    np.random.seed(3)\n",
    "    emb = 6*np.random.random((n, K)) / K\n",
    "    return emb"
   ]
  },
  {
   "cell_type": "code",
   "execution_count": 6,
   "metadata": {
    "hidden": true
   },
   "outputs": [],
   "source": [
    "# This function will make predictions for us\n",
    "# A single prediction for ith user and jth item \n",
    "# is dot product of user i's embedding vector and item j's embedding vector\n",
    "# plus bias term of user i and bias term of item j\n",
    "\n",
    "def sparse_multiply(df, emb_user, emb_movie, bias_user, bias_movie):\n",
    "    df[\"Prediction\"] = np.sum(emb_user[df[\"userId\"].values]*emb_movie[df[\"movieId\"].values], axis=1)+\\\n",
    "        bias_user[df[\"userId\"].values].flatten() + bias_movie[df[\"movieId\"].values].flatten()\n",
    "    return df2matrix(df, emb_user.shape[0], emb_movie.shape[0], column_name=\"Prediction\")"
   ]
  },
  {
   "cell_type": "code",
   "execution_count": 39,
   "metadata": {
    "hidden": true
   },
   "outputs": [],
   "source": [
    "# We will define error to be simple mse without taking account bias terms\n",
    "# Any desired cost function can be used here\n",
    "# But optimization will be based on regularized mse loss\n",
    "\n",
    "def cost(df, emb_user, emb_movie, bias_user, bias_movie):\n",
    "    Y = df2matrix(df, emb_user.shape[0], emb_movie.shape[0])\n",
    "    error = np.sum((Y - sparse_multiply(df, emb_user, emb_movie,bias_user, bias_movie)).power(2)) / Y.count_nonzero()\n",
    "    return error"
   ]
  },
  {
   "cell_type": "code",
   "execution_count": 40,
   "metadata": {
    "hidden": true
   },
   "outputs": [],
   "source": [
    "# Gradient update function which returns\n",
    "# Gradients for user, movie embedding matrices and bias vectors\n",
    "\n",
    "def gradient(df, Y, emb_user, emb_movie, bias_user, bias_movie, reg_lambda):\n",
    "    N = Y.count_nonzero()\n",
    "    Y_predict= sparse_multiply(df, emb_user, emb_movie, bias_user, bias_movie)\n",
    "    delta = (Y - Y_predict).toarray()\n",
    "    \n",
    "    # compute user/movie grad\n",
    "    d_emb_user = -(2/N)*np.dot(delta, emb_movie) + 2*reg_lambda*emb_user\n",
    "    d_emb_movie = -(2/N)*np.dot(delta.T, emb_user) + 2*reg_lambda*emb_movie\n",
    "    d_bias_user = -(2/N)*np.sum(delta, 1)[:, None]\n",
    "    d_bias_movie = -(2/N)*np.sum(delta.T, 1)[:, None]\n",
    "    \n",
    "    return d_emb_user, d_emb_movie, d_bias_user, d_bias_movie"
   ]
  },
  {
   "cell_type": "code",
   "execution_count": 41,
   "metadata": {
    "hidden": true
   },
   "outputs": [],
   "source": [
    "# This is an implementation of SGD with momentum\n",
    "# This function will allow us to optimize our parameters\n",
    "# Based on regularied mse loss\n",
    "\n",
    "def gradient_descent(df, emb_user, emb_movie, bias_user, bias_movie, reg_lambda=0,\\\n",
    "                                                     iterations=100, learning_rate=0.01, rho=0.9, df_val=None):\n",
    "\n",
    "    Y = df2matrix(df, emb_user.shape[0], emb_movie.shape[0])\n",
    "    v_user_prev, v_movie_prev, v_user_bias_prev, v_movie_bias_prev =  gradient(df, Y, emb_user, emb_movie, \\\n",
    "                                                                      bias_user, bias_movie, reg_lambda)\n",
    "    for i in range(iterations):\n",
    "        d_emb_user, d_emb_movie, d_bias_user, d_bias_movie = gradient(df, Y, emb_user, emb_movie, \\\n",
    "                                                                      bias_user, bias_movie, reg_lambda)\n",
    "        \n",
    "        v_user = (rho*v_user_prev) + (1-rho)*d_emb_user\n",
    "        v_movie = (rho*v_movie_prev) + (1-rho)*d_emb_movie\n",
    "        v_bias_user = (rho*v_user_bias_prev) + (1-rho)*d_bias_user\n",
    "        v_bias_movie = (rho*v_movie_bias_prev) + (1-rho)*d_bias_movie\n",
    "        \n",
    "        \n",
    "        emb_user -= learning_rate*v_user\n",
    "        emb_movie -= learning_rate*v_movie\n",
    "        bias_user -= learning_rate*v_bias_user\n",
    "        bias_movie -= learning_rate*v_bias_movie\n",
    "        \n",
    "        \n",
    "        \n",
    "        \n",
    "        v_user_prev, v_movie_prev, v_user_bias_prev, v_movie_bias_prev =\\\n",
    "                        v_user, v_movie, v_bias_user, v_bias_movie\n",
    "        \n",
    "        #print cost every 50th iter\n",
    "        if (i+1) % 250 == 0:\n",
    "            train_loss = cost(df, emb_user, emb_movie, bias_user, bias_movie)\n",
    "            if df_val is not None:\n",
    "                val_loss = cost(df_val, emb_user, emb_movie, bias_user, bias_movie)\n",
    "                print(f'Step {i+1} [{train_loss}, {val_loss}]')\n",
    "            else:\n",
    "                print(f'Step {i+1} [{train_loss}]')\n",
    "            \n",
    "    return emb_user, emb_movie, bias_user, bias_movie"
   ]
  },
  {
   "cell_type": "markdown",
   "metadata": {},
   "source": [
    "### Training with Sample Movielens\n",
    "\n",
    "Data can be downloaded here: http://files.grouplens.org/datasets/movielens/ml-latest-small.zip\n",
    "\n",
    "This is a small subset of movielens data ratings"
   ]
  },
  {
   "cell_type": "code",
   "execution_count": 53,
   "metadata": {},
   "outputs": [
    {
     "name": "stdout",
     "output_type": "stream",
     "text": [
      "20205 19507 (79799, 4)\n"
     ]
    }
   ],
   "source": [
    "# Don't change this path use a simlink if you have the data somewhere else\n",
    "path = \"ml-latest-small/\"\n",
    "data = pd.read_csv(path + \"ratings.csv\")\n",
    "# sorting by timestamp take as validation data the most recent data doesn't work so let's just take 20%\n",
    "# at random\n",
    "np.random.seed(3)\n",
    "msk = np.random.rand(len(data)) < 0.8\n",
    "train = data[msk].copy()\n",
    "val = data[~msk].copy()\n",
    "df_train, num_users, num_movies = encode_data(train)\n",
    "df_val = encode_new_data(val, train)\n",
    "print(len(val), len(df_val), df_train.shape)"
   ]
  },
  {
   "cell_type": "code",
   "execution_count": 54,
   "metadata": {},
   "outputs": [],
   "source": [
    "# K - dimension of embeddings is a hyperparameter\n",
    "K = 30\n",
    "emb_user = create_embedings(num_users, K)\n",
    "emb_movie = create_embedings(num_movies, K)\n",
    "bias_user = create_embedings(num_users, 1)\n",
    "bias_movie = create_embedings(num_movies, 1)"
   ]
  },
  {
   "cell_type": "code",
   "execution_count": 55,
   "metadata": {},
   "outputs": [
    {
     "name": "stdout",
     "output_type": "stream",
     "text": [
      "Step 250 [2.4328130017062644, 2.4470552982085603]\n",
      "Step 500 [1.7557838010353581, 1.770211858161878]\n",
      "Step 750 [1.4577264112860782, 1.4745802735352518]\n",
      "Step 1000 [1.2885065924327133, 1.3098002130830877]\n",
      "Step 1250 [1.1788292788989598, 1.2054203458912132]\n",
      "Step 1500 [1.1015795915679523, 1.1336880876918307]\n",
      "Step 1750 [1.0439369147935018, 1.0814823959721538]\n",
      "Step 2000 [0.9990564922081951, 1.041826535060369]\n",
      "Step 2250 [0.9629599262417026, 1.0106904577600788]\n",
      "Step 2500 [0.9331823527015705, 0.9855958292272023]\n",
      "Step 2750 [0.9081171102812573, 0.9649406510224539]\n",
      "Step 3000 [0.8866720786469449, 0.9476458658624539]\n",
      "Step 3250 [0.8680780750518733, 0.9329588925431501]\n",
      "Step 3500 [0.8517766174081155, 0.9203389029138663]\n",
      "Step 3750 [0.8373513988701243, 0.9093870155722301]\n",
      "Step 4000 [0.8244849281180713, 0.8998022911347189]\n",
      "Step 4250 [0.8129302157699767, 0.8913531199640878]\n",
      "Step 4500 [0.8024917585150053, 0.8838580997854993]\n",
      "Step 4750 [0.7930124402191663, 0.877172936899896]\n",
      "Step 5000 [0.7843642998332703, 0.871181271795645]\n",
      "CPU times: user 18min 46s, sys: 2min 43s, total: 21min 29s\n",
      "Wall time: 5min 22s\n"
     ]
    }
   ],
   "source": [
    "%%time\n",
    "# without regularization for 5000 epochs\n",
    "# It overfits while converging\n",
    "emb_user, emb_movie, bias_user, bias_movie = gradient_descent(df_train, emb_user, emb_movie, bias_user, bias_movie,\\\n",
    "                                   1, iterations=5000, learning_rate=2.5, df_val=df_val)"
   ]
  },
  {
   "cell_type": "markdown",
   "metadata": {},
   "source": [
    "### Clustering Embeddings"
   ]
  },
  {
   "cell_type": "code",
   "execution_count": 68,
   "metadata": {},
   "outputs": [],
   "source": [
    "import numpy as np\n",
    "from sklearn.manifold import TSNE\n",
    "import matplotlib.pyplot as plt"
   ]
  },
  {
   "cell_type": "code",
   "execution_count": 60,
   "metadata": {},
   "outputs": [
    {
     "data": {
      "text/plain": [
       "(8442, 30)"
      ]
     },
     "execution_count": 60,
     "metadata": {},
     "output_type": "execute_result"
    }
   ],
   "source": [
    "emb_movie.shape"
   ]
  },
  {
   "cell_type": "code",
   "execution_count": 62,
   "metadata": {},
   "outputs": [],
   "source": [
    "tsne_movie = TSNE(n_components=2).fit_transform(emb_movie)"
   ]
  },
  {
   "cell_type": "code",
   "execution_count": 63,
   "metadata": {},
   "outputs": [
    {
     "data": {
      "text/plain": [
       "(8442, 2)"
      ]
     },
     "execution_count": 63,
     "metadata": {},
     "output_type": "execute_result"
    }
   ],
   "source": [
    "tsne_movie.shape"
   ]
  },
  {
   "cell_type": "code",
   "execution_count": 69,
   "metadata": {},
   "outputs": [
    {
     "data": {
      "text/html": [
       "<div>\n",
       "<style scoped>\n",
       "    .dataframe tbody tr th:only-of-type {\n",
       "        vertical-align: middle;\n",
       "    }\n",
       "\n",
       "    .dataframe tbody tr th {\n",
       "        vertical-align: top;\n",
       "    }\n",
       "\n",
       "    .dataframe thead th {\n",
       "        text-align: right;\n",
       "    }\n",
       "</style>\n",
       "<table border=\"1\" class=\"dataframe\">\n",
       "  <thead>\n",
       "    <tr style=\"text-align: right;\">\n",
       "      <th></th>\n",
       "      <th>userId</th>\n",
       "      <th>movieId</th>\n",
       "      <th>rating</th>\n",
       "      <th>timestamp</th>\n",
       "      <th>Prediction</th>\n",
       "    </tr>\n",
       "  </thead>\n",
       "  <tbody>\n",
       "    <tr>\n",
       "      <th>0</th>\n",
       "      <td>0</td>\n",
       "      <td>0</td>\n",
       "      <td>2.5</td>\n",
       "      <td>1260759144</td>\n",
       "      <td>2.167647</td>\n",
       "    </tr>\n",
       "    <tr>\n",
       "      <th>1</th>\n",
       "      <td>0</td>\n",
       "      <td>1</td>\n",
       "      <td>3.0</td>\n",
       "      <td>1260759179</td>\n",
       "      <td>2.757539</td>\n",
       "    </tr>\n",
       "    <tr>\n",
       "      <th>2</th>\n",
       "      <td>0</td>\n",
       "      <td>2</td>\n",
       "      <td>3.0</td>\n",
       "      <td>1260759182</td>\n",
       "      <td>2.541253</td>\n",
       "    </tr>\n",
       "    <tr>\n",
       "      <th>3</th>\n",
       "      <td>0</td>\n",
       "      <td>3</td>\n",
       "      <td>2.0</td>\n",
       "      <td>1260759185</td>\n",
       "      <td>2.413623</td>\n",
       "    </tr>\n",
       "    <tr>\n",
       "      <th>6</th>\n",
       "      <td>0</td>\n",
       "      <td>4</td>\n",
       "      <td>2.0</td>\n",
       "      <td>1260759187</td>\n",
       "      <td>2.880511</td>\n",
       "    </tr>\n",
       "  </tbody>\n",
       "</table>\n",
       "</div>"
      ],
      "text/plain": [
       "   userId  movieId  rating   timestamp  Prediction\n",
       "0       0        0     2.5  1260759144    2.167647\n",
       "1       0        1     3.0  1260759179    2.757539\n",
       "2       0        2     3.0  1260759182    2.541253\n",
       "3       0        3     2.0  1260759185    2.413623\n",
       "6       0        4     2.0  1260759187    2.880511"
      ]
     },
     "execution_count": 69,
     "metadata": {},
     "output_type": "execute_result"
    }
   ],
   "source": [
    "df_train.head()"
   ]
  },
  {
   "cell_type": "code",
   "execution_count": 70,
   "metadata": {},
   "outputs": [],
   "source": [
    "movies = pd.read_csv('./ml-latest-small/movies.csv')"
   ]
  },
  {
   "cell_type": "code",
   "execution_count": 90,
   "metadata": {},
   "outputs": [],
   "source": [
    "movie2idx, _, _ = proc_col(train['movieId'])"
   ]
  },
  {
   "cell_type": "code",
   "execution_count": 84,
   "metadata": {},
   "outputs": [
    {
     "data": {
      "text/html": [
       "<div>\n",
       "<style scoped>\n",
       "    .dataframe tbody tr th:only-of-type {\n",
       "        vertical-align: middle;\n",
       "    }\n",
       "\n",
       "    .dataframe tbody tr th {\n",
       "        vertical-align: top;\n",
       "    }\n",
       "\n",
       "    .dataframe thead th {\n",
       "        text-align: right;\n",
       "    }\n",
       "</style>\n",
       "<table border=\"1\" class=\"dataframe\">\n",
       "  <thead>\n",
       "    <tr style=\"text-align: right;\">\n",
       "      <th></th>\n",
       "      <th>movieId</th>\n",
       "      <th>title</th>\n",
       "      <th>genres</th>\n",
       "    </tr>\n",
       "  </thead>\n",
       "  <tbody>\n",
       "    <tr>\n",
       "      <th>0</th>\n",
       "      <td>1</td>\n",
       "      <td>Toy Story (1995)</td>\n",
       "      <td>Adventure|Animation|Children|Comedy|Fantasy</td>\n",
       "    </tr>\n",
       "    <tr>\n",
       "      <th>1</th>\n",
       "      <td>2</td>\n",
       "      <td>Jumanji (1995)</td>\n",
       "      <td>Adventure|Children|Fantasy</td>\n",
       "    </tr>\n",
       "    <tr>\n",
       "      <th>2</th>\n",
       "      <td>3</td>\n",
       "      <td>Grumpier Old Men (1995)</td>\n",
       "      <td>Comedy|Romance</td>\n",
       "    </tr>\n",
       "    <tr>\n",
       "      <th>3</th>\n",
       "      <td>4</td>\n",
       "      <td>Waiting to Exhale (1995)</td>\n",
       "      <td>Comedy|Drama|Romance</td>\n",
       "    </tr>\n",
       "    <tr>\n",
       "      <th>4</th>\n",
       "      <td>5</td>\n",
       "      <td>Father of the Bride Part II (1995)</td>\n",
       "      <td>Comedy</td>\n",
       "    </tr>\n",
       "  </tbody>\n",
       "</table>\n",
       "</div>"
      ],
      "text/plain": [
       "   movieId                               title  \\\n",
       "0        1                    Toy Story (1995)   \n",
       "1        2                      Jumanji (1995)   \n",
       "2        3             Grumpier Old Men (1995)   \n",
       "3        4            Waiting to Exhale (1995)   \n",
       "4        5  Father of the Bride Part II (1995)   \n",
       "\n",
       "                                        genres  \n",
       "0  Adventure|Animation|Children|Comedy|Fantasy  \n",
       "1                   Adventure|Children|Fantasy  \n",
       "2                               Comedy|Romance  \n",
       "3                         Comedy|Drama|Romance  \n",
       "4                                       Comedy  "
      ]
     },
     "execution_count": 84,
     "metadata": {},
     "output_type": "execute_result"
    }
   ],
   "source": [
    "movies.head()"
   ]
  },
  {
   "cell_type": "code",
   "execution_count": 95,
   "metadata": {},
   "outputs": [],
   "source": [
    "movies['embidx'] = [movie2idx[i] if i in movie2idx else np.nan for i in movies.movieId ]"
   ]
  },
  {
   "cell_type": "code",
   "execution_count": 97,
   "metadata": {},
   "outputs": [],
   "source": [
    "movies.dropna(inplace=True)"
   ]
  },
  {
   "cell_type": "code",
   "execution_count": 101,
   "metadata": {},
   "outputs": [],
   "source": [
    "movies['embidx'] = movies['embidx'].astype('int')"
   ]
  },
  {
   "cell_type": "code",
   "execution_count": 102,
   "metadata": {},
   "outputs": [
    {
     "data": {
      "text/html": [
       "<div>\n",
       "<style scoped>\n",
       "    .dataframe tbody tr th:only-of-type {\n",
       "        vertical-align: middle;\n",
       "    }\n",
       "\n",
       "    .dataframe tbody tr th {\n",
       "        vertical-align: top;\n",
       "    }\n",
       "\n",
       "    .dataframe thead th {\n",
       "        text-align: right;\n",
       "    }\n",
       "</style>\n",
       "<table border=\"1\" class=\"dataframe\">\n",
       "  <thead>\n",
       "    <tr style=\"text-align: right;\">\n",
       "      <th></th>\n",
       "      <th>movieId</th>\n",
       "      <th>title</th>\n",
       "      <th>genres</th>\n",
       "      <th>embidx</th>\n",
       "    </tr>\n",
       "  </thead>\n",
       "  <tbody>\n",
       "    <tr>\n",
       "      <th>0</th>\n",
       "      <td>1</td>\n",
       "      <td>Toy Story (1995)</td>\n",
       "      <td>Adventure|Animation|Children|Comedy|Fantasy</td>\n",
       "      <td>349</td>\n",
       "    </tr>\n",
       "    <tr>\n",
       "      <th>1</th>\n",
       "      <td>2</td>\n",
       "      <td>Jumanji (1995)</td>\n",
       "      <td>Adventure|Children|Fantasy</td>\n",
       "      <td>1771</td>\n",
       "    </tr>\n",
       "    <tr>\n",
       "      <th>2</th>\n",
       "      <td>3</td>\n",
       "      <td>Grumpier Old Men (1995)</td>\n",
       "      <td>Comedy|Romance</td>\n",
       "      <td>268</td>\n",
       "    </tr>\n",
       "    <tr>\n",
       "      <th>3</th>\n",
       "      <td>4</td>\n",
       "      <td>Waiting to Exhale (1995)</td>\n",
       "      <td>Comedy|Drama|Romance</td>\n",
       "      <td>1772</td>\n",
       "    </tr>\n",
       "    <tr>\n",
       "      <th>4</th>\n",
       "      <td>5</td>\n",
       "      <td>Father of the Bride Part II (1995)</td>\n",
       "      <td>Comedy</td>\n",
       "      <td>560</td>\n",
       "    </tr>\n",
       "  </tbody>\n",
       "</table>\n",
       "</div>"
      ],
      "text/plain": [
       "   movieId                               title  \\\n",
       "0        1                    Toy Story (1995)   \n",
       "1        2                      Jumanji (1995)   \n",
       "2        3             Grumpier Old Men (1995)   \n",
       "3        4            Waiting to Exhale (1995)   \n",
       "4        5  Father of the Bride Part II (1995)   \n",
       "\n",
       "                                        genres  embidx  \n",
       "0  Adventure|Animation|Children|Comedy|Fantasy     349  \n",
       "1                   Adventure|Children|Fantasy    1771  \n",
       "2                               Comedy|Romance     268  \n",
       "3                         Comedy|Drama|Romance    1772  \n",
       "4                                       Comedy     560  "
      ]
     },
     "execution_count": 102,
     "metadata": {},
     "output_type": "execute_result"
    }
   ],
   "source": [
    "movies.head()"
   ]
  },
  {
   "cell_type": "code",
   "execution_count": 123,
   "metadata": {
    "scrolled": true
   },
   "outputs": [],
   "source": [
    "index = np.array(range(tsne_movie.shape[0]))[:, None]\n",
    "tsne_df = pd.DataFrame(data = np.concatenate([tsne_movie,index], 1), \n",
    "             columns=['tsne1', 'tsne2', 'embidx'])"
   ]
  },
  {
   "cell_type": "code",
   "execution_count": 124,
   "metadata": {},
   "outputs": [],
   "source": [
    "tsne_df.embidx = tsne_df.embidx.astype('int')"
   ]
  },
  {
   "cell_type": "code",
   "execution_count": 127,
   "metadata": {
    "scrolled": true
   },
   "outputs": [],
   "source": [
    "tsne_movie_df = pd.merge(tsne_df, movies, how='left', on='embidx')"
   ]
  },
  {
   "cell_type": "code",
   "execution_count": 128,
   "metadata": {},
   "outputs": [
    {
     "data": {
      "text/html": [
       "<div>\n",
       "<style scoped>\n",
       "    .dataframe tbody tr th:only-of-type {\n",
       "        vertical-align: middle;\n",
       "    }\n",
       "\n",
       "    .dataframe tbody tr th {\n",
       "        vertical-align: top;\n",
       "    }\n",
       "\n",
       "    .dataframe thead th {\n",
       "        text-align: right;\n",
       "    }\n",
       "</style>\n",
       "<table border=\"1\" class=\"dataframe\">\n",
       "  <thead>\n",
       "    <tr style=\"text-align: right;\">\n",
       "      <th></th>\n",
       "      <th>tsne1</th>\n",
       "      <th>tsne2</th>\n",
       "      <th>embidx</th>\n",
       "      <th>movieId</th>\n",
       "      <th>title</th>\n",
       "      <th>genres</th>\n",
       "    </tr>\n",
       "  </thead>\n",
       "  <tbody>\n",
       "    <tr>\n",
       "      <th>0</th>\n",
       "      <td>0.657654</td>\n",
       "      <td>-1.022516</td>\n",
       "      <td>0</td>\n",
       "      <td>31</td>\n",
       "      <td>Dangerous Minds (1995)</td>\n",
       "      <td>Drama</td>\n",
       "    </tr>\n",
       "    <tr>\n",
       "      <th>1</th>\n",
       "      <td>0.009028</td>\n",
       "      <td>2.416170</td>\n",
       "      <td>1</td>\n",
       "      <td>1029</td>\n",
       "      <td>Dumbo (1941)</td>\n",
       "      <td>Animation|Children|Drama|Musical</td>\n",
       "    </tr>\n",
       "    <tr>\n",
       "      <th>2</th>\n",
       "      <td>-0.461207</td>\n",
       "      <td>-2.352748</td>\n",
       "      <td>2</td>\n",
       "      <td>1061</td>\n",
       "      <td>Sleepers (1996)</td>\n",
       "      <td>Thriller</td>\n",
       "    </tr>\n",
       "    <tr>\n",
       "      <th>3</th>\n",
       "      <td>2.156852</td>\n",
       "      <td>2.165390</td>\n",
       "      <td>3</td>\n",
       "      <td>1129</td>\n",
       "      <td>Escape from New York (1981)</td>\n",
       "      <td>Action|Adventure|Sci-Fi|Thriller</td>\n",
       "    </tr>\n",
       "    <tr>\n",
       "      <th>4</th>\n",
       "      <td>-0.285314</td>\n",
       "      <td>3.416818</td>\n",
       "      <td>4</td>\n",
       "      <td>1287</td>\n",
       "      <td>Ben-Hur (1959)</td>\n",
       "      <td>Action|Adventure|Drama</td>\n",
       "    </tr>\n",
       "  </tbody>\n",
       "</table>\n",
       "</div>"
      ],
      "text/plain": [
       "      tsne1     tsne2  embidx  movieId                        title  \\\n",
       "0  0.657654 -1.022516       0       31       Dangerous Minds (1995)   \n",
       "1  0.009028  2.416170       1     1029                 Dumbo (1941)   \n",
       "2 -0.461207 -2.352748       2     1061              Sleepers (1996)   \n",
       "3  2.156852  2.165390       3     1129  Escape from New York (1981)   \n",
       "4 -0.285314  3.416818       4     1287               Ben-Hur (1959)   \n",
       "\n",
       "                             genres  \n",
       "0                             Drama  \n",
       "1  Animation|Children|Drama|Musical  \n",
       "2                          Thriller  \n",
       "3  Action|Adventure|Sci-Fi|Thriller  \n",
       "4            Action|Adventure|Drama  "
      ]
     },
     "execution_count": 128,
     "metadata": {},
     "output_type": "execute_result"
    }
   ],
   "source": [
    "tsne_movie_df.head()"
   ]
  },
  {
   "cell_type": "code",
   "execution_count": 133,
   "metadata": {},
   "outputs": [],
   "source": [
    "import plotly\n",
    "import plotly.plotly as py\n",
    "import plotly.graph_objs as go"
   ]
  },
  {
   "cell_type": "code",
   "execution_count": 150,
   "metadata": {},
   "outputs": [],
   "source": [
    "data = []\n",
    "genres = tsne_movie_df.genres.unique()\n",
    "for genre in genres:\n",
    "    msk = tsne_movie_df.genres== genre\n",
    "    trace = go.Scatter(\n",
    "        x = tsne_movie_df.tsne1[msk],\n",
    "        y = tsne_movie_df.tsne2[msk],\n",
    "        mode = 'markers'\n",
    "    )\n",
    "    data.append(trace)"
   ]
  },
  {
   "cell_type": "code",
   "execution_count": 151,
   "metadata": {
    "scrolled": false
   },
   "outputs": [
    {
     "data": {
      "text/html": [
       "<iframe id=\"igraph\" scrolling=\"no\" style=\"border:none;\" seamless=\"seamless\" src=\"https://plot.ly/~keremturgutlu/2.embed\" height=\"525px\" width=\"100%\"></iframe>"
      ],
      "text/plain": [
       "<plotly.tools.PlotlyDisplay object>"
      ]
     },
     "execution_count": 151,
     "metadata": {},
     "output_type": "execute_result"
    }
   ],
   "source": [
    "py.iplot(data, sharing='public', filename='tsne_movies')"
   ]
  },
  {
   "cell_type": "code",
   "execution_count": null,
   "metadata": {},
   "outputs": [],
   "source": []
  }
 ],
 "metadata": {
  "kernelspec": {
   "display_name": "Python 3",
   "language": "python",
   "name": "python3"
  },
  "language_info": {
   "codemirror_mode": {
    "name": "ipython",
    "version": 3
   },
   "file_extension": ".py",
   "mimetype": "text/x-python",
   "name": "python",
   "nbconvert_exporter": "python",
   "pygments_lexer": "ipython3",
   "version": "3.6.4"
  }
 },
 "nbformat": 4,
 "nbformat_minor": 2
}
