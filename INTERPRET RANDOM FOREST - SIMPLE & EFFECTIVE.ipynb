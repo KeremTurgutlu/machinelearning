{
 "cells": [
  {
   "cell_type": "markdown",
   "metadata": {},
   "source": [
    "###  RANDOM FOREST INTERPRETATIONS\n",
    "\n",
    "Implement interpretation methods on top of our RF.\n",
    "\n",
    "- Confidence based on tree based variance\n",
    "- Feature Importance\n",
    "- Partial dependence\n",
    "- Tree Interpreter"
   ]
  },
  {
   "cell_type": "code",
   "execution_count": 2,
   "metadata": {},
   "outputs": [],
   "source": [
    "%load_ext autoreload\n",
    "%autoreload 2"
   ]
  },
  {
   "cell_type": "code",
   "execution_count": 3,
   "metadata": {},
   "outputs": [],
   "source": [
    "import sys"
   ]
  },
  {
   "cell_type": "code",
   "execution_count": 4,
   "metadata": {},
   "outputs": [],
   "source": [
    "sys.path.append('../')"
   ]
  },
  {
   "cell_type": "code",
   "execution_count": 5,
   "metadata": {},
   "outputs": [],
   "source": [
    "%matplotlib inline\n",
    "\n",
    "from fastai.imports import *\n",
    "from fastai.structured import *\n",
    "from sklearn.ensemble import RandomForestRegressor, RandomForestClassifier\n",
    "from IPython.display import display\n",
    "from sklearn import metrics"
   ]
  },
  {
   "cell_type": "code",
   "execution_count": 6,
   "metadata": {},
   "outputs": [],
   "source": [
    "df_raw = pd.read_feather('../tmp/bulldozers-raw')\n",
    "df_trn, y_trn, nas = proc_df(df_raw, 'SalePrice')"
   ]
  },
  {
   "cell_type": "code",
   "execution_count": 7,
   "metadata": {},
   "outputs": [],
   "source": [
    "def split_vals(a,n): return a[:n], a[n:]\n",
    "n_valid = 12000\n",
    "n_trn = len(df_trn)-n_valid\n",
    "X_train, X_valid = split_vals(df_trn, n_trn)\n",
    "y_train, y_valid = split_vals(y_trn, n_trn)\n",
    "raw_train, raw_valid = split_vals(df_raw, n_trn)"
   ]
  },
  {
   "cell_type": "code",
   "execution_count": 8,
   "metadata": {},
   "outputs": [],
   "source": [
    "plt.rcParams[\"figure.figsize\"] = (20,10)"
   ]
  },
  {
   "cell_type": "markdown",
   "metadata": {},
   "source": [
    "### RF\n",
    "\n",
    "Code implemented during Fast.ai ML 1 course"
   ]
  },
  {
   "cell_type": "code",
   "execution_count": 9,
   "metadata": {},
   "outputs": [],
   "source": [
    "class TreeEnsemble():\n",
    "    def __init__(self, x, y, n_trees, sample_sz, min_leaf=5):\n",
    "        np.random.seed(42)\n",
    "        self.x,self.y,self.sample_sz,self.min_leaf = x,y,sample_sz,min_leaf\n",
    "        self.trees = [self.create_tree() for i in range(n_trees)]\n",
    "\n",
    "    def create_tree(self):\n",
    "        idxs = np.random.permutation(len(self.y))[:self.sample_sz]\n",
    "        return DecisionTree(self.x.iloc[idxs], self.y[idxs], \n",
    "                    idxs=np.array(range(self.sample_sz)), min_leaf=self.min_leaf)\n",
    "        \n",
    "    def predict(self, x):\n",
    "        return np.mean([t.predict(x) for t in self.trees], axis=0)\n",
    "\n",
    "def std_agg(cnt, s1, s2): return math.sqrt((s2/cnt) - (s1/cnt)**2)"
   ]
  },
  {
   "cell_type": "code",
   "execution_count": 10,
   "metadata": {},
   "outputs": [],
   "source": [
    "class DecisionTree():\n",
    "    def __init__(self, x, y, idxs, min_leaf=5):\n",
    "        self.x,self.y,self.idxs,self.min_leaf = x,y,idxs,min_leaf\n",
    "        self.n,self.c = len(idxs), x.shape[1]\n",
    "        self.val = np.mean(y[idxs])\n",
    "        self.score = float('inf')\n",
    "        self.find_varsplit()\n",
    "        \n",
    "    def find_varsplit(self):\n",
    "        for i in range(self.c): self.find_better_split(i)\n",
    "        if self.score == float('inf'): return\n",
    "        x = self.split_col\n",
    "        lhs = np.nonzero(x<=self.split)[0]\n",
    "        rhs = np.nonzero(x>self.split)[0]\n",
    "        self.lhs = DecisionTree(self.x, self.y, self.idxs[lhs])\n",
    "        self.rhs = DecisionTree(self.x, self.y, self.idxs[rhs])\n",
    "\n",
    "    def find_better_split(self, var_idx):\n",
    "        x,y = self.x.values[self.idxs,var_idx], self.y[self.idxs]\n",
    "        sort_idx = np.argsort(x)\n",
    "        sort_y,sort_x = y[sort_idx], x[sort_idx]\n",
    "        rhs_cnt,rhs_sum,rhs_sum2 = self.n, sort_y.sum(), (sort_y**2).sum()\n",
    "        lhs_cnt,lhs_sum,lhs_sum2 = 0,0.,0.\n",
    "\n",
    "        for i in range(0,self.n-self.min_leaf-1):\n",
    "            xi,yi = sort_x[i],sort_y[i]\n",
    "            lhs_cnt += 1; rhs_cnt -= 1\n",
    "            lhs_sum += yi; rhs_sum -= yi\n",
    "            lhs_sum2 += yi**2; rhs_sum2 -= yi**2\n",
    "            if i<self.min_leaf or xi==sort_x[i+1]:\n",
    "                continue\n",
    "\n",
    "            lhs_std = std_agg(lhs_cnt, lhs_sum, lhs_sum2)\n",
    "            rhs_std = std_agg(rhs_cnt, rhs_sum, rhs_sum2)\n",
    "            curr_score = lhs_std*lhs_cnt + rhs_std*rhs_cnt\n",
    "            if curr_score<self.score: \n",
    "                self.var_idx,self.score,self.split = var_idx,curr_score,xi\n",
    "\n",
    "    @property\n",
    "    def split_name(self): return self.x.columns[self.var_idx]\n",
    "    \n",
    "    @property\n",
    "    def split_col(self): return self.x.values[self.idxs,self.var_idx]\n",
    "\n",
    "    @property\n",
    "    def is_leaf(self): return self.score == float('inf')\n",
    "    \n",
    "    def __repr__(self):\n",
    "        s = f'n: {self.n}; val:{self.val}'\n",
    "        if not self.is_leaf:\n",
    "            s += f'; score:{self.score}; split:{self.split}; var:{self.split_name}'\n",
    "        return s\n",
    "\n",
    "    def predict(self, x):\n",
    "        return np.array([self.predict_row(xi) for xi in x])\n",
    "\n",
    "    def predict_row(self, xi):\n",
    "        if self.is_leaf: return self.val\n",
    "        t = self.lhs if xi[self.var_idx]<=self.split else self.rhs\n",
    "        return t.predict_row(xi)"
   ]
  },
  {
   "cell_type": "markdown",
   "metadata": {},
   "source": [
    "### CONFIDENCE BASED ON TREE VARIANCE"
   ]
  },
  {
   "cell_type": "code",
   "execution_count": 11,
   "metadata": {},
   "outputs": [],
   "source": [
    "import scipy.stats as st\n",
    "\n",
    "class TreeConfidence:\n",
    "    def __init__(self, model, X, y=None):\n",
    "        self.X = X\n",
    "        self.model = model\n",
    "        self.y = y\n",
    "    \n",
    "    def get_preds(self):\n",
    "        preds_arr = np.stack([t.predict(self.X) for t in self.model.trees])\n",
    "        mean = np.mean(preds_arr, axis = 0)\n",
    "        std = np.std(preds_arr, axis = 0)\n",
    "        self.mean = mean\n",
    "        self.std = std\n",
    "        return list(zip(mean, std))\n",
    "    \n",
    "    def plot_CI(self, n=10, alpha=0.05):\n",
    "        worst_idx = np.argsort(self.std)[::-1][:n]\n",
    "        z = st.norm.ppf(1-alpha)\n",
    "        plt.errorbar(range(n), self.mean[worst_idx], yerr=z*self.std[worst_idx], linestyle='None', marker='^')\n",
    "        plt.xticks(range(n), worst_idx, rotation='vertical')\n",
    "        plt.xlabel('Index')\n",
    "        plt.ylabel('Prediction')\n",
    "        if self.y is not None:\n",
    "            plt.scatter(range(n), self.y[worst_idx], color='red')\n",
    "        plt.title(f'Top {n} Inconfident Preds')\n",
    "        plt.show()\n",
    "        self.inconfident_idx = worst_idx"
   ]
  },
  {
   "cell_type": "code",
   "execution_count": 12,
   "metadata": {},
   "outputs": [],
   "source": [
    "cols = ['MachineID', 'YearMade', 'MachineHoursCurrentMeter', 'ProductSize', 'Enclosure',\n",
    "        'Coupler_System', 'saleYear']"
   ]
  },
  {
   "cell_type": "code",
   "execution_count": 13,
   "metadata": {},
   "outputs": [],
   "source": [
    "ens = TreeEnsemble(X_train[cols], y_train, 5, 1000)"
   ]
  },
  {
   "cell_type": "code",
   "execution_count": 14,
   "metadata": {},
   "outputs": [],
   "source": [
    "# tree_based_confidence takes a numpy array\n",
    "X_valid_arr = np.array(X_valid[cols])\n",
    "t_conf = TreeConfidence(ens, X=X_valid_arr, y=y_valid)"
   ]
  },
  {
   "cell_type": "code",
   "execution_count": 15,
   "metadata": {},
   "outputs": [],
   "source": [
    "#return mean predictions and std through each tree estimation\n",
    "preds_confidence = t_conf.get_preds()"
   ]
  },
  {
   "cell_type": "code",
   "execution_count": 16,
   "metadata": {},
   "outputs": [
    {
     "data": {
      "text/plain": [
       "[(9.47220518605317, 0.11817477418906022),\n",
       " (9.4872894849883895, 0.2150947939039578),\n",
       " (9.4785027119230474, 0.17415497790617179),\n",
       " (9.47220518605317, 0.11817477418906022),\n",
       " (9.4732554343846225, 0.081911482343672917),\n",
       " (9.4201450172278989, 0.089049231631374501),\n",
       " (9.5984479242095375, 0.063452144017706116),\n",
       " (9.4525468658151119, 0.19098843787997505),\n",
       " (9.5782359361493654, 0.21389384712238318),\n",
       " (9.526339911555997, 0.17508577776567533)]"
      ]
     },
     "execution_count": 16,
     "metadata": {},
     "output_type": "execute_result"
    }
   ],
   "source": [
    "#print first 10 validation prediction and their confidences\n",
    "preds_confidence[:10]"
   ]
  },
  {
   "cell_type": "code",
   "execution_count": 17,
   "metadata": {},
   "outputs": [
    {
     "data": {
      "image/png": "[encoded data removed]",
      "text/plain": [
       "<matplotlib.figure.Figure at 0x7f4d82867c88>"
      ]
     },
     "metadata": {},
     "output_type": "display_data"
    }
   ],
   "source": [
    "#plot most inconfident 10 predictions with indices\n",
    "#set confidence level = 0.95\n",
    "#these are the cases that our trees have the most varying predictions \n",
    "t_conf.plot_CI(n=15, alpha=0.05)"
   ]
  },
  {
   "cell_type": "code",
   "execution_count": 18,
   "metadata": {},
   "outputs": [
    {
     "data": {
      "text/plain": [
       "array([ 0.62048,  0.62048,  0.62048,  0.62048,  0.62048,  0.62048,  0.62048,  0.62048,  0.62048,  0.62048,\n",
       "        0.62048,  0.62048,  0.62048,  0.62048,  0.59255])"
      ]
     },
     "execution_count": 18,
     "metadata": {},
     "output_type": "execute_result"
    }
   ],
   "source": [
    "# we can grap the standard deviations of inconfident indices individually\n",
    "t_conf.std[t_conf.inconfident_idx]"
   ]
  },
  {
   "cell_type": "code",
   "execution_count": 19,
   "metadata": {},
   "outputs": [
    {
     "data": {
      "text/plain": [
       "array([5411, 3946, 7086, 7087, 3953, 3952, 3949, 9741, 4435, 3947, 3948, 3945, 3944, 4644, 4911])"
      ]
     },
     "execution_count": 19,
     "metadata": {},
     "output_type": "execute_result"
    }
   ],
   "source": [
    "t_conf.inconfident_idx"
   ]
  },
  {
   "cell_type": "code",
   "execution_count": 20,
   "metadata": {
    "scrolled": false
   },
   "outputs": [
    {
     "data": {
      "text/html": [
       "<div>\n",
       "<style scoped>\n",
       "    .dataframe tbody tr th:only-of-type {\n",
       "        vertical-align: middle;\n",
       "    }\n",
       "\n",
       "    .dataframe tbody tr th {\n",
       "        vertical-align: top;\n",
       "    }\n",
       "\n",
       "    .dataframe thead th {\n",
       "        text-align: right;\n",
       "    }\n",
       "</style>\n",
       "<table border=\"1\" class=\"dataframe\">\n",
       "  <thead>\n",
       "    <tr style=\"text-align: right;\">\n",
       "      <th></th>\n",
       "      <th>MachineID</th>\n",
       "      <th>YearMade</th>\n",
       "      <th>MachineHoursCurrentMeter</th>\n",
       "      <th>ProductSize</th>\n",
       "      <th>Enclosure</th>\n",
       "      <th>Coupler_System</th>\n",
       "      <th>saleYear</th>\n",
       "    </tr>\n",
       "  </thead>\n",
       "  <tbody>\n",
       "    <tr>\n",
       "      <th>394536</th>\n",
       "      <td>1828168</td>\n",
       "      <td>1985</td>\n",
       "      <td>0.0</td>\n",
       "      <td>2</td>\n",
       "      <td>1</td>\n",
       "      <td>0</td>\n",
       "      <td>2011</td>\n",
       "    </tr>\n",
       "    <tr>\n",
       "      <th>393071</th>\n",
       "      <td>1924697</td>\n",
       "      <td>1984</td>\n",
       "      <td>0.0</td>\n",
       "      <td>2</td>\n",
       "      <td>6</td>\n",
       "      <td>0</td>\n",
       "      <td>2011</td>\n",
       "    </tr>\n",
       "    <tr>\n",
       "      <th>396211</th>\n",
       "      <td>1813643</td>\n",
       "      <td>1984</td>\n",
       "      <td>0.0</td>\n",
       "      <td>2</td>\n",
       "      <td>1</td>\n",
       "      <td>0</td>\n",
       "      <td>2011</td>\n",
       "    </tr>\n",
       "    <tr>\n",
       "      <th>396212</th>\n",
       "      <td>1883763</td>\n",
       "      <td>1984</td>\n",
       "      <td>0.0</td>\n",
       "      <td>2</td>\n",
       "      <td>1</td>\n",
       "      <td>0</td>\n",
       "      <td>2011</td>\n",
       "    </tr>\n",
       "    <tr>\n",
       "      <th>393078</th>\n",
       "      <td>1791687</td>\n",
       "      <td>1984</td>\n",
       "      <td>0.0</td>\n",
       "      <td>2</td>\n",
       "      <td>3</td>\n",
       "      <td>0</td>\n",
       "      <td>2011</td>\n",
       "    </tr>\n",
       "    <tr>\n",
       "      <th>393077</th>\n",
       "      <td>1836132</td>\n",
       "      <td>1985</td>\n",
       "      <td>0.0</td>\n",
       "      <td>2</td>\n",
       "      <td>6</td>\n",
       "      <td>0</td>\n",
       "      <td>2011</td>\n",
       "    </tr>\n",
       "    <tr>\n",
       "      <th>393074</th>\n",
       "      <td>1875745</td>\n",
       "      <td>1984</td>\n",
       "      <td>0.0</td>\n",
       "      <td>2</td>\n",
       "      <td>3</td>\n",
       "      <td>0</td>\n",
       "      <td>2011</td>\n",
       "    </tr>\n",
       "    <tr>\n",
       "      <th>398866</th>\n",
       "      <td>1806392</td>\n",
       "      <td>1984</td>\n",
       "      <td>0.0</td>\n",
       "      <td>2</td>\n",
       "      <td>6</td>\n",
       "      <td>0</td>\n",
       "      <td>2011</td>\n",
       "    </tr>\n",
       "    <tr>\n",
       "      <th>393560</th>\n",
       "      <td>1925412</td>\n",
       "      <td>1985</td>\n",
       "      <td>0.0</td>\n",
       "      <td>2</td>\n",
       "      <td>3</td>\n",
       "      <td>0</td>\n",
       "      <td>2011</td>\n",
       "    </tr>\n",
       "    <tr>\n",
       "      <th>393072</th>\n",
       "      <td>1939065</td>\n",
       "      <td>1984</td>\n",
       "      <td>0.0</td>\n",
       "      <td>2</td>\n",
       "      <td>6</td>\n",
       "      <td>0</td>\n",
       "      <td>2011</td>\n",
       "    </tr>\n",
       "    <tr>\n",
       "      <th>393073</th>\n",
       "      <td>1879735</td>\n",
       "      <td>1984</td>\n",
       "      <td>0.0</td>\n",
       "      <td>2</td>\n",
       "      <td>3</td>\n",
       "      <td>0</td>\n",
       "      <td>2011</td>\n",
       "    </tr>\n",
       "    <tr>\n",
       "      <th>393070</th>\n",
       "      <td>1807106</td>\n",
       "      <td>1984</td>\n",
       "      <td>0.0</td>\n",
       "      <td>2</td>\n",
       "      <td>6</td>\n",
       "      <td>0</td>\n",
       "      <td>2011</td>\n",
       "    </tr>\n",
       "    <tr>\n",
       "      <th>393069</th>\n",
       "      <td>1809809</td>\n",
       "      <td>1984</td>\n",
       "      <td>0.0</td>\n",
       "      <td>2</td>\n",
       "      <td>1</td>\n",
       "      <td>0</td>\n",
       "      <td>2011</td>\n",
       "    </tr>\n",
       "    <tr>\n",
       "      <th>393769</th>\n",
       "      <td>1838187</td>\n",
       "      <td>1984</td>\n",
       "      <td>0.0</td>\n",
       "      <td>2</td>\n",
       "      <td>3</td>\n",
       "      <td>0</td>\n",
       "      <td>2011</td>\n",
       "    </tr>\n",
       "    <tr>\n",
       "      <th>394036</th>\n",
       "      <td>63657</td>\n",
       "      <td>1994</td>\n",
       "      <td>0.0</td>\n",
       "      <td>0</td>\n",
       "      <td>1</td>\n",
       "      <td>0</td>\n",
       "      <td>2011</td>\n",
       "    </tr>\n",
       "  </tbody>\n",
       "</table>\n",
       "</div>"
      ],
      "text/plain": [
       "        MachineID  YearMade  MachineHoursCurrentMeter  ProductSize  Enclosure  \\\n",
       "394536    1828168      1985                       0.0            2          1   \n",
       "393071    1924697      1984                       0.0            2          6   \n",
       "396211    1813643      1984                       0.0            2          1   \n",
       "396212    1883763      1984                       0.0            2          1   \n",
       "393078    1791687      1984                       0.0            2          3   \n",
       "393077    1836132      1985                       0.0            2          6   \n",
       "393074    1875745      1984                       0.0            2          3   \n",
       "398866    1806392      1984                       0.0            2          6   \n",
       "393560    1925412      1985                       0.0            2          3   \n",
       "393072    1939065      1984                       0.0            2          6   \n",
       "393073    1879735      1984                       0.0            2          3   \n",
       "393070    1807106      1984                       0.0            2          6   \n",
       "393069    1809809      1984                       0.0            2          1   \n",
       "393769    1838187      1984                       0.0            2          3   \n",
       "394036      63657      1994                       0.0            0          1   \n",
       "\n",
       "        Coupler_System  saleYear  \n",
       "394536               0      2011  \n",
       "393071               0      2011  \n",
       "396211               0      2011  \n",
       "396212               0      2011  \n",
       "393078               0      2011  \n",
       "393077               0      2011  \n",
       "393074               0      2011  \n",
       "398866               0      2011  \n",
       "393560               0      2011  \n",
       "393072               0      2011  \n",
       "393073               0      2011  \n",
       "393070               0      2011  \n",
       "393069               0      2011  \n",
       "393769               0      2011  \n",
       "394036               0      2011  "
      ]
     },
     "execution_count": 20,
     "metadata": {},
     "output_type": "execute_result"
    }
   ],
   "source": [
    "# take a look at these indices\n",
    "# We can actually see that these predictions have many common things \n",
    "# Such like yearmade, productsize, machinemeter so on so forth\n",
    "# so its good practice to take a look at the predictions that we are not confident\n",
    "X_valid[cols].iloc[t_conf.inconfident_idx]"
   ]
  },
  {
   "cell_type": "markdown",
   "metadata": {},
   "source": [
    "### FEATURE IMPORTANCE"
   ]
  },
  {
   "cell_type": "markdown",
   "metadata": {},
   "source": [
    "**Simple But Brilliant**\n",
    "\n",
    "The idea is so simple, its brilliant; you model once, predict once to get a benchmark score, and finally predict hundreds of times for each variable in the model while randomizing that variable. If the variable being randomized hurts the model’s benchmark score, then its an important variable. If, on the other hand, nothing changes, or it beats the benchmark, then its a useless variable. By running this hundreds of times for each variable, you can paint a clear picture of what variable is affecting the model and to what degree. The beauty of this approach is that it is model agnostic as everything happens after the modeling phase."
   ]
  },
  {
   "cell_type": "code",
   "execution_count": 21,
   "metadata": {},
   "outputs": [],
   "source": [
    "# define a metric for baseline score\n",
    "# we will go with rmse since as competition required \n",
    "# but any evaluation function can be defined\n",
    "def feval(y_true, y_pred): return np.sqrt(metrics.mean_squared_error(y_pred=y_pred, y_true=y_true))"
   ]
  },
  {
   "cell_type": "code",
   "execution_count": 22,
   "metadata": {},
   "outputs": [],
   "source": [
    "# takes randomforest model\n",
    "# data to predict and true values\n",
    "# any custome feval function\n",
    "# and bool whether feval is better as a small or larger value\n",
    "def plot_feature_imp(ens, X, y, feval, small_better=True):\n",
    "    preds = ens.predict(np.array(X))\n",
    "    baseline = feval(y_pred=preds, y_true=y_valid)\n",
    "    #get feat imp\n",
    "    feat_imp = {}\n",
    "    for n, c in valid_data.items():\n",
    "        valid_data_tmp = valid_data.copy()\n",
    "        valid_data_tmp[n] = np.random.permutation(c)\n",
    "        y_preds = ens.predict(np.array(valid_data_tmp))\n",
    "        new_eval = feval(y_preds, y_valid)\n",
    "        if small_better:\n",
    "            delta = new_eval - baseline\n",
    "        else:\n",
    "            delta = baseline - new_eval\n",
    "        feat_imp[n] = delta\n",
    "    #plot \n",
    "    D = feat_imp\n",
    "    plt.bar(range(len(D)), D.values(), align='center')\n",
    "    plt.xticks(range(len(D)), D.keys(), rotation=75)\n",
    "    plt.title('Feature Importance')\n",
    "    plt.ylabel('Delta')\n",
    "    plt.axhline(y=0, color='black', alpha=0.4)\n",
    "    return feat_imp"
   ]
  },
  {
   "cell_type": "code",
   "execution_count": 23,
   "metadata": {},
   "outputs": [],
   "source": [
    "valid_data = X_valid[cols]\n",
    "preds = ens.predict(np.array(valid_data))"
   ]
  },
  {
   "cell_type": "code",
   "execution_count": 24,
   "metadata": {},
   "outputs": [
    {
     "data": {
      "text/plain": [
       "{'Coupler_System': 0.33379034657914769,\n",
       " 'Enclosure': 0.043900893876550273,\n",
       " 'MachineHoursCurrentMeter': -0.001454594528879749,\n",
       " 'MachineID': 0.019066057979239381,\n",
       " 'ProductSize': 0.22397207766894373,\n",
       " 'YearMade': 0.16133200491582739,\n",
       " 'saleYear': 0.0016635653395752903}"
      ]
     },
     "execution_count": 24,
     "metadata": {},
     "output_type": "execute_result"
    },
    {
     "data": {
      "image/png": "[encoded data removed]",
      "text/plain": [
       "<matplotlib.figure.Figure at 0x7f4d7ef37710>"
      ]
     },
     "metadata": {},
     "output_type": "display_data"
    }
   ],
   "source": [
    "# MachineHoursCurrentMeter can be dropped\n",
    "plot_feature_imp(ens, valid_data, y_valid, feval, True)"
   ]
  },
  {
   "cell_type": "markdown",
   "metadata": {},
   "source": [
    "### PARTIAL DEPENDENCE PLOT\n",
    "\n",
    "A good read related to PDP and ICE plots: https://arxiv.org/pdf/1309.6392.pdf"
   ]
  },
  {
   "cell_type": "markdown",
   "metadata": {},
   "source": [
    "When using black box machine learning algorithms like random forest and boosting, it is hard to understand the relations between predictors and model outcome. For example, in terms of random forest, all we get is the feature importance. Although we can know which feature is significantly influencing the outcome based on the importance calculation, it really sucks that we don’t know in which direction it is influencing. And in most of the real cases, the effect is non-monotonic. We need some powerful tools to help understanding the complex relations between predictors and model prediction.\n",
    "\n",
    "Note: These plots require model error to be as low as possible. This makes sense since partial dependence depends on predictions of training data."
   ]
  },
  {
   "cell_type": "code",
   "execution_count": 25,
   "metadata": {},
   "outputs": [],
   "source": [
    "ens = TreeEnsemble(X_train[cols], y_train, 5, 20000)"
   ]
  },
  {
   "cell_type": "code",
   "execution_count": 26,
   "metadata": {},
   "outputs": [],
   "source": [
    "#sample ratio is recommended for large datasets\n",
    "#very slow (todo optimize)\n",
    "def pdp_plot(m, x, target_feature, sample_ratio=0.3):\n",
    "    x_tmp = x.copy()\n",
    "    x_tmp = x_tmp.sample(frac=sample_ratio)\n",
    "    levels = np.unique(x_tmp[target_feature])\n",
    "    tmp_preds = []\n",
    "    for l in levels:\n",
    "        x_tmp[target_feature] = l\n",
    "        tmp_preds.append(ens.predict(np.array(x_tmp)))\n",
    "        \n",
    "    tmp_preds = np.array(tmp_preds).T\n",
    "    \n",
    "    means = np.mean(tmp_preds, axis=0)\n",
    "    means -= means[0]\n",
    "\n",
    "    plt.plot(levels, means)\n",
    "    plt.scatter(levels, means)\n",
    "    plt.title(f'PDP {target_feature}')"
   ]
  },
  {
   "cell_type": "code",
   "execution_count": null,
   "metadata": {},
   "outputs": [],
   "source": [
    "x = X_train[cols][X_train.YearMade > 1400]\n",
    "%timeit pdp_plot(ens, x, 'YearMade', 0.05)"
   ]
  },
  {
   "cell_type": "markdown",
   "metadata": {},
   "source": [
    "### Problems with PDP - ICE Plots\n",
    "\n",
    "In fact, the original work introducing PDPs argues that the PDP can be a useful summary\n",
    "for the chosen subset of variables if their dependence on the remaining features is not too\n",
    "strong. When the dependence is strong, however – that is, when interactions are present –\n",
    "the PDP can be misleading. Nor is the PDP particularly effective at revealing extrapolations\n",
    "in X -space. ICE plots are intended to address these issues."
   ]
  }
 ],
 "metadata": {
  "kernelspec": {
   "display_name": "Python 3",
   "language": "python",
   "name": "python3"
  },
  "language_info": {
   "codemirror_mode": {
    "name": "ipython",
    "version": 3
   },
   "file_extension": ".py",
   "mimetype": "text/x-python",
   "name": "python",
   "nbconvert_exporter": "python",
   "pygments_lexer": "ipython3",
   "version": "3.6.3"
  }
 },
 "nbformat": 4,
 "nbformat_minor": 2
}
